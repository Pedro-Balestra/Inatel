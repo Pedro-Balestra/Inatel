{
 "cells": [
  {
   "cell_type": "markdown",
   "metadata": {},
   "source": [
    "# EXEMPLO 2:\n",
    "\n",
    "MAXIMIZE Z  = 5X1 + 7X2\\\n",
    "SUJEITO A: X1 <= 16\\\n",
    "           2X1+3X2 <= 19\\\n",
    "           X1+X2 <= 8\\\n",
    "           X1,X2 >= 0\n",
    "           \n"
   ]
  },
  {
   "cell_type": "code",
   "execution_count": 2,
   "metadata": {},
   "outputs": [],
   "source": [
    "import numpy as np\n",
    "from scipy.optimize import linprog"
   ]
  },
  {
   "cell_type": "code",
   "execution_count": 4,
   "metadata": {},
   "outputs": [],
   "source": [
    "objetivo = np.array([-5,-7])\n",
    "coef_retricoes = np.array([[1,0],[2,3],[1,1],[-1,0],[0,-1]])\n",
    "lado_direito = np.array([16,19,8,0,0])\n",
    "\n",
    "resultado = linprog(objetivo,coef_retricoes,lado_direito)"
   ]
  },
  {
   "cell_type": "code",
   "execution_count": 6,
   "metadata": {},
   "outputs": [
    {
     "name": "stdout",
     "output_type": "stream",
     "text": [
      "[5. 3.]\n"
     ]
    }
   ],
   "source": [
    "print(resultado.x)"
   ]
  }
 ],
 "metadata": {
  "interpreter": {
   "hash": "e9c1b6de7dd11e836f9d6578176a03145d69b3706dc1a430f69caaa0fa1933fa"
  },
  "kernelspec": {
   "display_name": "Python 3.10.0 64-bit",
   "language": "python",
   "name": "python3"
  },
  "language_info": {
   "codemirror_mode": {
    "name": "ipython",
    "version": 3
   },
   "file_extension": ".py",
   "mimetype": "text/x-python",
   "name": "python",
   "nbconvert_exporter": "python",
   "pygments_lexer": "ipython3",
   "version": "3.10.0"
  },
  "orig_nbformat": 4
 },
 "nbformat": 4,
 "nbformat_minor": 2
}
