{
 "cells": [
  {
   "cell_type": "markdown",
   "metadata": {},
   "source": [
    "# Modelo PPL\n",
    "\n",
    "#### VD -> X1 PRIMEIRO PRODUTO\n",
    "####       X2 SEGUNDO PRODUTO\n",
    "####       X3 TERCEIRO PRODUTO\n",
    "####       X4 QUARTO PRODUTO\n",
    "\n",
    "#### MAXIMIZE Z = 20 * X1 + 12 * X2 + 40 * X3 + 25 * X3\n",
    "\n",
    "##### SUJEITO A: X1+X2+X3+X4 <= 50 (MÃO DE OBRA)\n",
    "#####            3X1+2X2+X3 <= 100 (A)\n",
    "#####            X2+2X3+3X4 <= 90 (B)\n",
    "#####            X1,X2,X3,X4 >= 0\n",
    "\n",
    "\n"
   ]
  },
  {
   "cell_type": "code",
   "execution_count": 3,
   "metadata": {},
   "outputs": [],
   "source": [
    "from scipy.optimize import linprog"
   ]
  },
  {
   "cell_type": "code",
   "execution_count": 5,
   "metadata": {},
   "outputs": [],
   "source": [
    "# PARA MAXIMIZAÇÃO OS COEFICIENTES SÃO NEGATIVOS\n",
    "\n",
    "objetivo = [-20,-12,-40,-25]\n",
    "\n",
    "# COEFICIENTES DAS RESTRIÇÕES:\n",
    "\n",
    "coef_restricoes = [[1,1,1,1],\n",
    "                    [3,2,1,0],\n",
    "                    [0,1,2,3]]\n",
    "\n",
    "lado_direito = [50,100,90]\n",
    "\n",
    "otimizador = linprog(c=objetivo, A_ub=coef_restricoes, b_ub=lado_direito,method='revised simplex')\n",
    "# c é o vetor com os custos ou lucros individuais\n",
    "# A_ub é a matriz com os coeficientes das restrições\n",
    "# b_ub é a matriz com os termos do lado direito\n",
    "# method é o metodo usado para otimização (padrão = Simplex)"
   ]
  },
  {
   "cell_type": "code",
   "execution_count": 6,
   "metadata": {},
   "outputs": [
    {
     "data": {
      "text/plain": [
       "     con: array([], dtype=float64)\n",
       "     fun: -1900.0\n",
       " message: 'Optimization terminated successfully.'\n",
       "     nit: 2\n",
       "   slack: array([ 0., 40.,  0.])\n",
       "  status: 0\n",
       " success: True\n",
       "       x: array([ 5.,  0., 45.,  0.])"
      ]
     },
     "execution_count": 6,
     "metadata": {},
     "output_type": "execute_result"
    }
   ],
   "source": [
    "otimizador"
   ]
  }
 ],
 "metadata": {
  "interpreter": {
   "hash": "e9c1b6de7dd11e836f9d6578176a03145d69b3706dc1a430f69caaa0fa1933fa"
  },
  "kernelspec": {
   "display_name": "Python 3.10.0 64-bit",
   "language": "python",
   "name": "python3"
  },
  "language_info": {
   "codemirror_mode": {
    "name": "ipython",
    "version": 3
   },
   "file_extension": ".py",
   "mimetype": "text/x-python",
   "name": "python",
   "nbconvert_exporter": "python",
   "pygments_lexer": "ipython3",
   "version": "3.10.0"
  },
  "orig_nbformat": 4
 },
 "nbformat": 4,
 "nbformat_minor": 2
}
