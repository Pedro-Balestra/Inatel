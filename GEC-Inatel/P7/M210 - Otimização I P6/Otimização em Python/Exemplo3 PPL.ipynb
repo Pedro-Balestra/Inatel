{
 "cells": [
  {
   "cell_type": "markdown",
   "metadata": {},
   "source": [
    "MINIMIZE Z =10X1 + 15X2 + 25X3\n",
    "\n",
    "SUJEITO A: X1+X2+X3 >= 1000 (RESTÇÃO 1)\\\n",
    "           X1 - 2X2 >= 0 (RESTIÇÃO 2)\\\n",
    "           X3 >= 340 (RESTRIÇÃO 3)\\\n",
    "           X1,X2,X3 >=0"
   ]
  },
  {
   "cell_type": "code",
   "execution_count": 1,
   "metadata": {},
   "outputs": [],
   "source": [
    "import numpy as np\n",
    "from scipy.optimize import linprog"
   ]
  },
  {
   "cell_type": "code",
   "execution_count": 7,
   "metadata": {},
   "outputs": [],
   "source": [
    "objetivo = np.array([10,15,25])\n",
    "coef_restricoes = np.array([[-1,-1,-1],\n",
    "                           [-1,2,0],\n",
    "                           [0,0,-1],\n",
    "                           [-1,0,0],\n",
    "                           [0,-1,0],\n",
    "                           [0,0,-1]])\n",
    "lado_direito = np.array([-1000,0,-340,0,0,0])\n",
    "\n",
    "resultado = linprog(objetivo,coef_restricoes,lado_direito)"
   ]
  },
  {
   "cell_type": "code",
   "execution_count": 8,
   "metadata": {},
   "outputs": [
    {
     "name": "stdout",
     "output_type": "stream",
     "text": [
      "     con: array([], dtype=float64)\n",
      "     fun: 15099.999961403191\n",
      " message: 'Optimization terminated successfully.'\n",
      "     nit: 7\n",
      "   slack: array([-3.98724183e-06,  6.59999996e+02,  5.17040917e-08,  6.59999996e+02,\n",
      "        1.00009440e-07,  3.40000000e+02])\n",
      "  status: 0\n",
      " success: True\n",
      "       x: array([6.59999996e+02, 1.00009440e-07, 3.40000000e+02])\n"
     ]
    }
   ],
   "source": [
    "print(resultado)"
   ]
  }
 ],
 "metadata": {
  "interpreter": {
   "hash": "e9c1b6de7dd11e836f9d6578176a03145d69b3706dc1a430f69caaa0fa1933fa"
  },
  "kernelspec": {
   "display_name": "Python 3.10.0 64-bit",
   "language": "python",
   "name": "python3"
  },
  "language_info": {
   "codemirror_mode": {
    "name": "ipython",
    "version": 3
   },
   "file_extension": ".py",
   "mimetype": "text/x-python",
   "name": "python",
   "nbconvert_exporter": "python",
   "pygments_lexer": "ipython3",
   "version": "3.10.0"
  },
  "orig_nbformat": 4
 },
 "nbformat": 4,
 "nbformat_minor": 2
}
