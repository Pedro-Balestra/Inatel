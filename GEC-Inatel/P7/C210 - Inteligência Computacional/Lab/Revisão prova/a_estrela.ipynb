{
 "cells": [
  {
   "cell_type": "markdown",
   "metadata": {
    "id": "6ggOn4tVKG5s"
   },
   "source": [
    "### Grafo"
   ]
  },
  {
   "cell_type": "code",
   "execution_count": 1,
   "metadata": {
    "id": "PQHm8V7tKDuc"
   },
   "outputs": [],
   "source": [
    "class Graph:\n",
    "\n",
    "    #Construtor\n",
    "    def __init__(self, graph_dict=None, directed=True):\n",
    "        self.graph_dict = graph_dict or {}\n",
    "        self.directed = directed\n",
    "        if not directed:\n",
    "            self.make_undirected()\n",
    "\n",
    "\n",
    "    #Método que fará o grafo não direcionado\n",
    "    def make_undirected(self):\n",
    "        for a in list(self.graph_dict.keys()):\n",
    "            for (b, dist) in self.graph_dict[a].items():\n",
    "                self.graph_dict.setdefault(b, {})[a] = dist\n",
    "\n",
    "    #Método que conecta dois grafos (através de outra classe)\n",
    "    def connect(self, A, B, distance=1):\n",
    "        self.graph_dict.setdefault(A, {})[B] = distance\n",
    "        if not self.directed:\n",
    "            self.graph_dict.setdefault(B, {})[A] = distance\n",
    "\n",
    "    #Método que pega a lista de adjacências de um determinado vértice\n",
    "    def get(self, a, b=None):\n",
    "        links = self.graph_dict.setdefault(a, {})\n",
    "        if b is None:\n",
    "            return links\n",
    "        else:\n",
    "            return links.get(b)\n",
    "\n",
    "    #Método que retorna todos vértices do grafo\n",
    "    def nodes(self):\n",
    "        s1 = set([k for k in self.graph_dict.keys()])\n",
    "        s2 = set([k2 for v in self.graph_dict.values() for k2, v2 in v.items()])\n",
    "        nodes = s1.union(s2)\n",
    "        return list(nodes)\n",
    "\n",
    "\n",
    "#Classe que é o vértice em si\n",
    "class Node:\n",
    "    def __init__(self, name:str, parent:str):\n",
    "        self.name = name\n",
    "        self.parent = parent\n",
    "        self.g = 0 # Distance to start node\n",
    "        self.h = 0 # Distance to goal node\n",
    "        self.f = 0 # Total cost    \n",
    "\n",
    "    def __eq__(self, other):\n",
    "        return self.name == other.name\n",
    "    \n",
    "    def __lt__(self, other):\n",
    "         return self.f < other.f\n",
    "    \n",
    "    def __repr__(self):\n",
    "        return ('({0},{1})'.format(self.name, self.f))\n",
    "\n",
    "    def __hash__(self):\n",
    "        return hash(self.name)"
   ]
  },
  {
   "cell_type": "markdown",
   "metadata": {
    "id": "3pbwjQLFOyfo"
   },
   "source": [
    "### A*\n"
   ]
  },
  {
   "cell_type": "code",
   "execution_count": 2,
   "metadata": {
    "id": "W1sDSFloO9vg"
   },
   "outputs": [],
   "source": [
    "#Função que fará a busca A*\n",
    "def busca(grafo, heuristicas, inicio, fim):\n",
    "    start_node = Node(inicio, None) #Criando um vértice de início\n",
    "    goal_node = Node(fim, None) #Criando um vértice de fim\n",
    "\n",
    "    #Distância do vértice de início até n\n",
    "    g_score = {}\n",
    "    g_score[start_node] = 0\n",
    "\n",
    "    # f(n) = g(n) + h(n), onde: F(n) = função, g(n) = peso das arestas, h(n) = heurísticas\n",
    "    f_score = {}\n",
    "    f_score[start_node] = 0 + heuristicas[start_node.name]\n",
    "\n",
    "    open_set = []\n",
    "    open_set.append(start_node)\n",
    "\n",
    "    while len(open_set) > 0:\n",
    "        open_set.sort()\n",
    "\n",
    "        current = open_set.pop(0) #Vértice em processamento\n",
    "\n",
    "        if current == goal_node:\n",
    "            path = []\n",
    "            while current != start_node:\n",
    "                path.append(current.name)\n",
    "                current = current.parent\n",
    "            path.append(start_node.name)\n",
    "\n",
    "            return path[::-1]\n",
    "\n",
    "\n",
    "        for key, value in grafo.get(current.name).items(): #Pegando chave e valor do dicionário\n",
    "\n",
    "            vizinho = Node(key, current)\n",
    "            #g_score.get(current, 999999999999) = Distancia atual do vértice inicial até o vértice em questão:\n",
    "            #value = Distancia do início até o pai do vértice em questão\n",
    "            tentativa_gscore = g_score.get(current, 999999999999) + value \n",
    "\n",
    "            if tentativa_gscore < g_score.get(vizinho, 999999999999):\n",
    "\n",
    "                #Salvar a tentativa\n",
    "                g_score[vizinho] = tentativa_gscore\n",
    "                vizinho.g  = tentativa_gscore\n",
    "\n",
    "                if vizinho not in open_set:\n",
    "                    open_set.append(vizinho)\n"
   ]
  },
  {
   "cell_type": "markdown",
   "metadata": {
    "id": "nvq-gl-GVCsV"
   },
   "source": [
    "### Setando o Grafo e Heurísticas"
   ]
  },
  {
   "cell_type": "code",
   "execution_count": 3,
   "metadata": {
    "id": "ZAW-ssGMVB-E"
   },
   "outputs": [],
   "source": [
    "graph = Graph()\n",
    "\n",
    "#Distância entre a cidade A e B\n",
    "graph.connect('Frankfurt', 'Wurzburg', 111)\n",
    "graph.connect('Frankfurt', 'Mannheim', 85)\n",
    "graph.connect('Wurzburg', 'Nurnberg', 104)\n",
    "graph.connect('Wurzburg', 'Stuttgart', 140)\n",
    "graph.connect('Wurzburg', 'Ulm', 183)\n",
    "graph.connect('Mannheim', 'Nurnberg', 230)\n",
    "graph.connect('Mannheim', 'Karlsruhe', 67)\n",
    "graph.connect('Karlsruhe', 'Basel', 191)\n",
    "graph.connect('Karlsruhe', 'Stuttgart', 64)\n",
    "graph.connect('Nurnberg', 'Ulm', 171)\n",
    "graph.connect('Nurnberg', 'Munchen', 170)\n",
    "graph.connect('Nurnberg', 'Passau', 220)\n",
    "graph.connect('Stuttgart', 'Ulm', 107)\n",
    "graph.connect('Basel', 'Bern', 91)\n",
    "graph.connect('Basel', 'Zurich', 85)\n",
    "graph.connect('Bern', 'Zurich', 120)\n",
    "graph.connect('Zurich', 'Memmingen', 184)\n",
    "graph.connect('Memmingen', 'Ulm', 55)\n",
    "graph.connect('Memmingen', 'Munchen', 115)\n",
    "graph.connect('Munchen', 'Ulm', 123)\n",
    "graph.connect('Munchen', 'Passau', 189)\n",
    "graph.connect('Munchen', 'Rosenheim', 59)\n",
    "graph.connect('Rosenheim', 'Salzburg', 81)\n",
    "graph.connect('Passau', 'Linz', 102)\n",
    "graph.connect('Salzburg', 'Linz', 126)\n",
    "graph.make_undirected()\n",
    "\n",
    "#Distância entre a cidade A e a cidade objetivo (Ulm)\n",
    "heuristics = {}\n",
    "heuristics['Basel'] = 204\n",
    "heuristics['Bern'] = 247\n",
    "heuristics['Frankfurt'] = 215\n",
    "heuristics['Karlsruhe'] = 137\n",
    "heuristics['Linz'] = 318\n",
    "heuristics['Mannheim'] = 164\n",
    "heuristics['Munchen'] = 120\n",
    "heuristics['Memmingen'] = 47\n",
    "heuristics['Nurnberg'] = 132\n",
    "heuristics['Passau'] = 257\n",
    "heuristics['Rosenheim'] = 168\n",
    "heuristics['Stuttgart'] = 75\n",
    "heuristics['Salzburg'] = 236\n",
    "heuristics['Wurzburg'] = 153\n",
    "heuristics['Zurich'] = 157\n",
    "heuristics['Ulm'] = 0"
   ]
  },
  {
   "cell_type": "markdown",
   "metadata": {
    "id": "_PpYG8jbPf6y"
   },
   "source": [
    "### Main"
   ]
  },
  {
   "cell_type": "code",
   "execution_count": 4,
   "metadata": {
    "colab": {
     "base_uri": "https://localhost:8080/"
    },
    "id": "xm2Bf33yPTz_",
    "outputId": "77d78080-f0d8-427b-b750-67d47070dbe7"
   },
   "outputs": [
    {
     "name": "stdout",
     "output_type": "stream",
     "text": [
      "Caminho encontrado: ['Frankfurt', 'Wurzburg', 'Ulm']\n"
     ]
    }
   ],
   "source": [
    "caminho = busca(graph, heuristics, \"Frankfurt\", \"Ulm\")\n",
    "\n",
    "print(f\"Caminho encontrado: {caminho}\")"
   ]
  }
 ],
 "metadata": {
  "colab": {
   "collapsed_sections": [],
   "name": "a_estrela.ipynb",
   "provenance": []
  },
  "interpreter": {
   "hash": "7cc3ab92e64919ee351287d754acdc76410e4f5dd3e80eb4271505c838109223"
  },
  "kernelspec": {
   "display_name": "Python 3.9.1 64-bit",
   "language": "python",
   "name": "python3"
  },
  "language_info": {
   "codemirror_mode": {
    "name": "ipython",
    "version": 3
   },
   "file_extension": ".py",
   "mimetype": "text/x-python",
   "name": "python",
   "nbconvert_exporter": "python",
   "pygments_lexer": "ipython3",
   "version": "3.9.1"
  }
 },
 "nbformat": 4,
 "nbformat_minor": 1
}
