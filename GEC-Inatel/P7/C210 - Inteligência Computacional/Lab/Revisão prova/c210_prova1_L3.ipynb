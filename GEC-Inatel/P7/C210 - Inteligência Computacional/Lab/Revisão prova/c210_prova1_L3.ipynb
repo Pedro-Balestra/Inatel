{
 "cells": [
  {
   "cell_type": "markdown",
   "metadata": {},
   "source": [
    "# Prova 1 - C210 - L3\n",
    "\n",
    "### Instruções\n",
    "* Esta prova contém 3 questões sobre, respectivamente, Machine Learning, Algoritmos Genéticos e PSO, cada uma pode possuir itens definidos por letras (a, b, c...)\n",
    "* Esta prova deve ser feita INDIVIDUALMENTE, sem acesso a outros alunos\n",
    "* É permitido o acesso aos códigos disponibilizados no Github da disciplina: https://github.com/TiagoMPereira/C210_IA\n",
    "* Para a realização da prova apenas altere este notebook\n",
    "* Ao final, envie na tarefa criada no Teams apenas o notebook com as alterações\n",
    "* Preencha o campo a seguir com suas informações\n",
    "\n",
    "#### Boa prova!!!"
   ]
  },
  {
   "cell_type": "markdown",
   "metadata": {},
   "source": [
    "##### Nome: Isadora Bello Pereira Rodrigues\n",
    "##### Curso: GEC\n",
    "##### Matrícula: 1777"
   ]
  },
  {
   "cell_type": "markdown",
   "metadata": {},
   "source": [
    "## 1) MACHINE LEARNING\n",
    "###### Responda as seguintes questões com V (verdadeiro) ou F (falso). (Dê dois cliques sobre a célula para alterá-la)"
   ]
  },
  {
   "cell_type": "markdown",
   "metadata": {},
   "source": [
    "a) O aprendizado supervisionado é um ramo de Machine Learning onde são fornecidos dados de treino e teste para que um algoritmo/modelo possa aprender. ( V )\n",
    "\n",
    "b) Agrupamento é um tipo de aprendizado de máquina não supervisionado, no qual um algoritmo agrupa os dados de acordo com semelhanças entre eles. ( V )\n",
    "\n",
    "c) Ao analisar diferentes modelos de aprendizado de máquina, é recomendado selecionar aquele que possua menor pontuação (R2_score) e maior erro. ( F )\n",
    "\n",
    "d) Para prever o valor (real) de um imóvel, deve ser utilizado um modelo de regressão. ( V )\n",
    "\n",
    "e) Para prever a presença ou ausência (1 ou 0) de determinada doença em uma pessoa deve ser utilizado um modelo de regressão. \n",
    "   ( F )"
   ]
  },
  {
   "cell_type": "markdown",
   "metadata": {},
   "source": [
    "## 2) Algoritmos genéticos\n",
    "###### Tendo como base o algoritmo apresentado abaixo, faça o que for pedido nas questões a), b) e c). Você pode executar a célula após fazer as questões se desejar, não é obrigatório. Não é necessário criar uma célula para cada questão, você pode alterar no próprio código disponibilizado"
   ]
  },
  {
   "cell_type": "code",
   "execution_count": 4,
   "metadata": {},
   "outputs": [],
   "source": [
    "import numpy as np"
   ]
  },
  {
   "cell_type": "code",
   "execution_count": 25,
   "metadata": {},
   "outputs": [],
   "source": [
    "############################################ BITSET ############################################\n",
    "class BitSet:\n",
    "    \n",
    "    def __init__(self, size):\n",
    "        self.bits = np.full(size, False)\n",
    "        \n",
    "    def __repr__(self):\n",
    "        return (f\"{self.bits*1}\")\n",
    "        \n",
    "    def get(self, index): \n",
    "        return self.bits[index]\n",
    "    \n",
    "    def set_(self, index, value):\n",
    "        self.bits[index] = value\n",
    "        \n",
    "    def flip(self, index):\n",
    "        self.bits[index] = not self.bits[index]\n",
    "        \n",
    "    def debug(self):\n",
    "        print(self.bits)\n",
    "        \n",
    "############################################ CROMOSSOMO ############################################\n",
    "class Chromossome:\n",
    "    \n",
    "    def __init__(self, x = None, y = None):\n",
    "        x = np.random.randint(-15, 16) if x is None else x\n",
    "        y = np.random.randint(-15, 16) if y is None else y\n",
    "        \n",
    "        self.genes = Chromossome.get_genotype(x, y)\n",
    "        self.score = np.inf\n",
    "        \n",
    "    def __repr__(self):\n",
    "        return (f'(Gene: {self.genes}, Score: {self.score:.3f})')\n",
    "    \n",
    "    def __lt__(self, other):\n",
    "        return self.score > other.score\n",
    "    \n",
    "    @staticmethod\n",
    "    def to_binary(variable):\n",
    "        variable = \"{:05b}\".format(variable)\n",
    "        signal = 1 if variable[0] == \"-\" else 0\n",
    "        variable = variable[1:]\n",
    "        variable += str(signal)\n",
    "        \n",
    "        return variable\n",
    "\n",
    "    @staticmethod\n",
    "    def get_genotype(x, y):\n",
    "        bits = BitSet(10)\n",
    "\n",
    "        x_genotype = Chromossome.to_binary(x)\n",
    "        y_genotype = Chromossome.to_binary(y)\n",
    "        xy_binary = x_genotype + y_genotype\n",
    "        \n",
    "        for i in range(10):\n",
    "            bits.set_(i, xy_binary[i] == '1')\n",
    "\n",
    "        return bits\n",
    "\n",
    "    @staticmethod\n",
    "    def get_fenotype(genes):          \n",
    "        \n",
    "        x = (8 * genes.get(0) + 4 * genes.get(1) +\n",
    "             2 * genes.get(2) + 1 * genes.get(3))\n",
    "\n",
    "        if (genes.get(4) == 1):\n",
    "            x *= -1\n",
    "\n",
    "        y = (8 * genes.get(5) + 4 * genes.get(6) +\n",
    "             2 * genes.get(7) + 1 * genes.get(8))\n",
    "\n",
    "        if (genes.get(9) == 1):\n",
    "            y *= -1\n",
    "\n",
    "        return x, y\n",
    "    \n",
    "############################################ PROBLEMA ############################################\n",
    "class Problem:\n",
    "\n",
    "    @staticmethod\n",
    "    def function(x, y):\n",
    "        return 1 * (x**2) + 7 * (y**2)\n",
    "    \n",
    "    @staticmethod\n",
    "    def score(x, y):\n",
    "        return abs(Problem.function(x, y))\n",
    "\n",
    "    @staticmethod\n",
    "    def score_chromossome(chromossome):\n",
    "        x, y = Chromossome.get_fenotype(chromossome.genes)\n",
    "        return Problem.score(x, y)\n",
    "\n",
    "    @staticmethod\n",
    "    def score_average(population):\n",
    "        avg = 0\n",
    "        for chromossome in population:\n",
    "            avg += Problem.score_chromossome(chromossome)\n",
    "        avg /= len(population)\n",
    "        return avg\n",
    "    \n",
    "    @staticmethod\n",
    "    def update_chromossome_score(chromossome):\n",
    "        genes_aux = Chromossome.get_fenotype(chromossome.genes)\n",
    "        x = genes_aux[0]\n",
    "        y = genes_aux[1]\n",
    "        chromossome.score = Problem.score(x,y)\n",
    "        \n",
    "############################################ UTILITÁRIOS ############################################\n",
    "class GeneticUtils:\n",
    "    \n",
    "    @staticmethod\n",
    "    def find_best_chromossome(population):\n",
    "        population.sort()\n",
    "        return population[-1]\n",
    "\n",
    "    @staticmethod\n",
    "    def find_worst_chromossome(population):\n",
    "        population.sort()\n",
    "        return population[0]\n",
    "\n",
    "    @staticmethod\n",
    "    def roulette(population):\n",
    "        population_scores = [chromossome.score for chromossome in population]\n",
    "        population_scores = np.array(population_scores)\n",
    "\n",
    "        # Calculando aptidão\n",
    "        fitness = 1 / (population_scores + 1)\n",
    "        total_fitness = fitness.sum()\n",
    "\n",
    "        roulette_values = fitness / total_fitness\n",
    "        return roulette_values"
   ]
  },
  {
   "cell_type": "code",
   "execution_count": 16,
   "metadata": {},
   "outputs": [],
   "source": [
    "############################################ OPERADORES GENÉTICOS ############################################\n",
    "class GeneticOperators:\n",
    "\n",
    "    @staticmethod\n",
    "    def selection(population):\n",
    "        parents = np.random.choice(population, size=3, replace = False)\n",
    "        population.sort()\n",
    "        parent1, parent2 = parents[-1], parents[-2]\n",
    "        \n",
    "        population.sort()\n",
    "\n",
    "        return parent1, parent2\n",
    "\n",
    "    @staticmethod\n",
    "    def selection_roulette(population):\n",
    "        probabilities = GeneticUtils.roulette(population)\n",
    "        parents = np.random.choice(population, size=2, replace = False, p = probabilities)\n",
    "        parent1, parent2 = parents[0], parents[1]\n",
    "\n",
    "        return parent1, parent2\n",
    "    \n",
    "    @staticmethod\n",
    "    def crossover(population, parent1, parent2):\n",
    "        crossover_point = np.random.randint(1, 10)\n",
    "        parent1_genes = parent1.genes\n",
    "        parent2_genes = parent2.genes\n",
    "\n",
    "        child1_genes = BitSet(10)\n",
    "        child2_genes = BitSet(10)\n",
    "\n",
    "        for i in range(crossover_point):\n",
    "            child1_genes.set_(i, parent1_genes.get(i))\n",
    "            child2_genes.set_(i, parent2_genes.get(i))\n",
    "\n",
    "        for i in range(crossover_point, 10):\n",
    "            child1_genes.set_(i, parent2_genes.get(i))\n",
    "            child2_genes.set_(i, parent1_genes.get(i))\n",
    "\n",
    "        child1 = Chromossome()\n",
    "        child1.genes = child1_genes\n",
    "        \n",
    "        child2 = Chromossome()\n",
    "        child2.genes = child2_genes\n",
    "        \n",
    "        Problem.update_chromossome_score(child1)\n",
    "        Problem.update_chromossome_score(child2)\n",
    "        \n",
    "        population.append(child1)\n",
    "        population.append(child2)\n",
    "        \n",
    "    @staticmethod\n",
    "    def mutation(population, mutation_threshold):\n",
    "        ran = np.random.randint(1, 11)\n",
    "        prob = np.random.uniform(0, 1)\n",
    "\n",
    "        if prob >= mutation_threshold:\n",
    "            return\n",
    "        \n",
    "        for i in range(ran):\n",
    "            chromossome = np.random.choice(population)\n",
    "            mutation_point = np.random.randint(0, 10)\n",
    "            chromossome.genes.flip(mutation_point)\n",
    "            Problem.update_chromossome_score(chromossome)\n",
    "        \n",
    "    @staticmethod\n",
    "    def elitism(population):\n",
    "        for _ in range(2):\n",
    "            worst_individual = GeneticUtils.find_worst_chromossome(population)\n",
    "            population.remove(worst_individual)"
   ]
  },
  {
   "cell_type": "code",
   "execution_count": null,
   "metadata": {},
   "outputs": [],
   "source": [
    "############################################ PRINCIPAL ############################################\n",
    "MAX_GENERATION = 100\n",
    "INITIAL_POPULATION = 100\n",
    "MUTATION_THRESHOLD = 0.01\n",
    "\n",
    "if __name__ == \"__main__\":\n",
    "    \n",
    "    population = []\n",
    "    for _ in range(INITIAL_POPULATION):\n",
    "        chromossome_aux = Chromossome()\n",
    "        Problem.update_chromossome_score(chromossome_aux)\n",
    "        population.append(chromossome_aux)\n",
    "        \n",
    "    generation = 0\n",
    "    \n",
    "    while generation < MAX_GENERATION:\n",
    "        \n",
    "        parent1, parent2 = GeneticOperators.selection(population)\n",
    "        \n",
    "        GeneticOperators.crossover(population, parent1, parent2)\n",
    "\n",
    "        GeneticOperators.mutation(population, MUTATION_THRESHOLD)\n",
    "\n",
    "        GeneticOperators.elitism(population)\n",
    "        \n",
    "        generation += 1\n",
    "        \n",
    "    best_chromossome = GeneticUtils.find_best_chromossome(population)\n",
    "    print(f\"Best chromossome {best_chromossome}\")"
   ]
  },
  {
   "cell_type": "markdown",
   "metadata": {},
   "source": [
    "##### A) Na classe Problema, altere a função objetivo para: a * $x^2$ + b * $y^2$ , onde 'a' deve ser o primeiro dígito da sua matrícula e 'b' o último digito da sua matrícula.\n",
    "##### Ex: Se sua matrícula for 123, 'a'  será 1 e 'b' será 3, então sua função objetivo deve ser  1 * $x^2$ + 3 * $y^2$ "
   ]
  },
  {
   "cell_type": "markdown",
   "metadata": {},
   "source": [
    "___"
   ]
  },
  {
   "cell_type": "markdown",
   "metadata": {},
   "source": [
    "##### B) Altere a seleção dos pais de modo a selecionar 3 pais de forma aleatória (sem utilizar a roleta viciada) e, dentre os 3 pais selecionados, utilizar apenas os dois melhores para gerar novos filhos"
   ]
  },
  {
   "cell_type": "markdown",
   "metadata": {},
   "source": [
    "___"
   ]
  },
  {
   "cell_type": "markdown",
   "metadata": {},
   "source": [
    "##### C) Para cada geração, caso ocorra a mutação, sorteie um valor aleatório entre 1 e 10 (incluindo 10) e aplique a mutação na quantidade de cromossomos sorteadas"
   ]
  },
  {
   "cell_type": "markdown",
   "metadata": {},
   "source": [
    "___"
   ]
  },
  {
   "cell_type": "markdown",
   "metadata": {},
   "source": [
    "## 3) PSO\n",
    "##### Na implementação do algoritmo The Cornfield Vector são considerados 3 vetores para calcular a nova velocidade das partículas. A soma dos vetores é feita de acordo com um peso definido para cada um. Para cada alternativa, altere os pesos dos vetores de modo que um seja priorizado em relação aos demais.\n",
    "##### Observações:\n",
    "* Nenhuma taxa deve ser menor ou igual a 0\n",
    "* A soma das 3 taxas deve ser igual a 1 \n"
   ]
  },
  {
   "cell_type": "markdown",
   "metadata": {},
   "source": [
    "* Considere a seguinte função para ajuste de velocidade"
   ]
  },
  {
   "cell_type": "code",
   "execution_count": null,
   "metadata": {},
   "outputs": [],
   "source": [
    "def update_velocity(self, gbest_pos, velocity_rate):\n",
    "    \n",
    "    cognitive_velocity = self.calculate_velocity(self.pbest)\n",
    "    \n",
    "    social_velocity = self.calculate_velocity(gbest_pos)\n",
    "\n",
    "    self.velocity = (np.array(self.velocity) * velocity_rate[0]\n",
    "                    + cognitive_velocity * velocity_rate[1] \n",
    "                    + social_velocity * velocity_rate[2])"
   ]
  },
  {
   "cell_type": "markdown",
   "metadata": {},
   "source": [
    "##### A) Altere a lista de taxa de velocidades de modo que priorize (seja maior que as demais) a velocidade atual da partícula ao invés das velocidades referentes ao Pbest e ao Gbest. "
   ]
  },
  {
   "cell_type": "markdown",
   "metadata": {},
   "source": [
    "VELOCITY_RATE = [0.8, 0.1, 0.1]"
   ]
  },
  {
   "cell_type": "markdown",
   "metadata": {},
   "source": [
    "##### B) Altere a lista de taxa de velocidades de modo que priorize (seja maior que as demais) a velocidade referente ao Pbest da partícula ao invés da velocidade atual e da velocidade referente ao Gbest. "
   ]
  },
  {
   "cell_type": "markdown",
   "metadata": {},
   "source": [
    "VELOCITY_RATE = [0.1, 0.8, 0.1]"
   ]
  },
  {
   "cell_type": "markdown",
   "metadata": {},
   "source": [
    "##### C) Altere a lista de taxa de velocidades de modo que priorize (seja maior que as demais) a velocidade referente ao Gbest da partícula ao invés da velocidade atual e da velocidade referente ao Pbest. "
   ]
  },
  {
   "cell_type": "markdown",
   "metadata": {},
   "source": [
    "VELOCITY_RATE = [0.1, 0.1, 0.8]"
   ]
  }
 ],
 "metadata": {
  "kernelspec": {
   "display_name": "Python 3 (ipykernel)",
   "language": "python",
   "name": "python3"
  },
  "language_info": {
   "codemirror_mode": {
    "name": "ipython",
    "version": 3
   },
   "file_extension": ".py",
   "mimetype": "text/x-python",
   "name": "python",
   "nbconvert_exporter": "python",
   "pygments_lexer": "ipython3",
   "version": "3.9.6"
  }
 },
 "nbformat": 4,
 "nbformat_minor": 4
}
