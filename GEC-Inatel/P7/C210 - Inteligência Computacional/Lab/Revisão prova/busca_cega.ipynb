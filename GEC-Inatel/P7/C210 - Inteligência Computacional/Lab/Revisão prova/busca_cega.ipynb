{
 "cells": [
  {
   "cell_type": "markdown",
   "metadata": {
    "colab_type": "text",
    "id": "5phuobHfzYJw"
   },
   "source": [
    "### Classe para modelar o problema"
   ]
  },
  {
   "cell_type": "code",
   "execution_count": 9,
   "metadata": {
    "colab": {},
    "colab_type": "code",
    "id": "SN6fGCZYvGHw"
   },
   "outputs": [],
   "source": [
    "import numpy as np\n",
    "\n",
    "class SlidingPuzzle():\n",
    "\n",
    "    #Construtor\n",
    "    def __init__(self, num_blocos):\n",
    "        self.num_blocos = num_blocos\n",
    "\n",
    "    #Classe privada para encontrar a posição\n",
    "    def _encontra_posicao(self, estado, elemento):\n",
    "        for i in range(self.num_blocos):\n",
    "            for j in range(self.num_blocos):\n",
    "                if estado[i, j] == elemento:\n",
    "                    return i, j\n",
    "        return None, None\n",
    "\n",
    "    def verifica_estados(self, atual, objetivo):\n",
    "        flag = True\n",
    "        for i in range(self.num_blocos):\n",
    "            if flag == False:\n",
    "                break\n",
    "\n",
    "            for j in range(self.num_blocos):\n",
    "                if atual[i, j] != objetivo[i, j]:\n",
    "                    flag = False;\n",
    "                    break;\n",
    "\n",
    "        return flag\n",
    "\n",
    "    def expande_estado(self, atual):\n",
    "        novos_estados = []\n",
    "        linha, coluna = self._encontra_posicao(atual, 0) #Atribui a linha e coluna os valores do estado atual e a coluna 0\n",
    "\n",
    "        # Cima = é subtraída 1 unidade na linha\n",
    "        if linha > 0:\n",
    "            novo_estado = np.copy(atual)\n",
    "            nova_linha = linha - 1\n",
    "\n",
    "            bloco_alvo = novo_estado[nova_linha, coluna]\n",
    "            novo_estado[nova_linha, coluna] = 0\n",
    "            novo_estado[linha, coluna] = bloco_alvo\n",
    "\n",
    "            novos_estados.append(novo_estado)\n",
    "\n",
    "        # Baixo = é somada 1 unidade na linha\n",
    "        if linha < self.num_blocos - 1:\n",
    "            novo_estado = np.copy(atual)\n",
    "            nova_linha = linha + 1\n",
    "\n",
    "            bloco_alvo = novo_estado[nova_linha, coluna]\n",
    "            novo_estado[nova_linha, coluna] = 0\n",
    "            novo_estado[linha, coluna] = bloco_alvo\n",
    "\n",
    "            novos_estados.append(novo_estado)\n",
    "\n",
    "\n",
    "        # Esquerda = é subtraída 1 unidade na coluna\n",
    "        if coluna > 0:\n",
    "            novo_estado = np.copy(atual)\n",
    "            nova_coluna = coluna - 1\n",
    "\n",
    "            bloco_alvo = novo_estado[linha, nova_coluna]\n",
    "            novo_estado[linha, nova_coluna] = 0\n",
    "            novo_estado[linha, coluna] = bloco_alvo\n",
    "\n",
    "            novos_estados.append(novo_estado)\n",
    "\n",
    "        # Direita = é somada 1 unidade na coluna\n",
    "        if coluna < self.num_blocos - 1:\n",
    "            novo_estado = np.copy(atual)\n",
    "            nova_coluna = coluna + 1\n",
    "\n",
    "            bloco_alvo = novo_estado[linha, nova_coluna]\n",
    "            novo_estado[linha, nova_coluna] = 0\n",
    "            novo_estado[linha, coluna] = bloco_alvo\n",
    "\n",
    "            novos_estados.append(novo_estado)\n",
    "\n",
    "        return novos_estados\n"
   ]
  },
  {
   "cell_type": "markdown",
   "metadata": {
    "colab_type": "text",
    "id": "UE7sF2OAEhrO"
   },
   "source": [
    "### BFS"
   ]
  },
  {
   "cell_type": "code",
   "execution_count": 10,
   "metadata": {
    "colab": {},
    "colab_type": "code",
    "id": "IylMVySAEkP9"
   },
   "outputs": [],
   "source": [
    "from queue import Queue\n",
    "\n",
    "class BreadthFirstSearch():\n",
    "    def __init__(self, problema):\n",
    "        self.problema = problema\n",
    "\n",
    "    def _verifica_visitado(self, estado, estados_visitados):\n",
    "        for i in estados_visitados:\n",
    "            if self.problema.verifica_estados(i, estado):\n",
    "                return True\n",
    "        return False\n",
    "\n",
    "    def busca(self, inicio, fim):\n",
    "        fila = Queue()\n",
    "        fila.put(inicio)\n",
    "\n",
    "        solucao_encontrada = False\n",
    "        estados_visitados = []\n",
    "        cont_estados = 0\n",
    "\n",
    "        while not fila.empty():\n",
    "            atual = fila.get() #Pega o primeiro elemento e apaga\n",
    "            estados_visitados.append(atual)\n",
    "\n",
    "            if self.problema.verifica_estados(atual, fim): #Verifica se o estado atual == fim\n",
    "                solucao_encontrada = True\n",
    "                break\n",
    "            else:\n",
    "                cont_estados += 1\n",
    "                print(f\"Visitando #{cont_estados}\")\n",
    "\n",
    "                novos_estados = self.problema.expande_estado(atual) #Expandindo a busca\n",
    "\n",
    "                for i in novos_estados:\n",
    "                    if not self._verifica_visitado(i, estados_visitados):\n",
    "                        print(i)\n",
    "                        fila.put(i)\n",
    "\n",
    "        return solucao_encontrada, estados_visitados, cont_estados\n"
   ]
  },
  {
   "cell_type": "markdown",
   "metadata": {
    "colab_type": "text",
    "id": "iIXSZuAwJCIr"
   },
   "source": [
    "### DFS"
   ]
  },
  {
   "cell_type": "code",
   "execution_count": 11,
   "metadata": {
    "colab": {},
    "colab_type": "code",
    "id": "i_ISfyfPJDxY"
   },
   "outputs": [],
   "source": [
    "from queue import LifoQueue\n",
    "\n",
    "class DepthFirstSearch():\n",
    "    def __init__(self, problema):\n",
    "        self.problema = problema\n",
    "\n",
    "    def _verifica_visitado(self, estado, estados_visitados):\n",
    "        for i in estados_visitados:\n",
    "            if self.problema.verifica_estados(i, estado):\n",
    "                return True\n",
    "        return False\n",
    "\n",
    "    def busca(self, inicio, fim):\n",
    "        fila = LifoQueue()\n",
    "        fila.put(inicio)\n",
    "\n",
    "        solucao_encontrada = False\n",
    "        estados_visitados = []\n",
    "        cont_estados = 0\n",
    "\n",
    "        while not fila.empty():\n",
    "            atual = fila.get()\n",
    "            estados_visitados.append(atual)\n",
    "\n",
    "            if self.problema.verifica_estados(atual, fim):\n",
    "                solucao_encontrada = True\n",
    "                break\n",
    "            else:\n",
    "                cont_estados += 1\n",
    "                print(f\"Visitando #{cont_estados}\")\n",
    "                novos_estados = self.problema.expande_estado(atual)\n",
    "                for i in novos_estados:\n",
    "                    if not self._verifica_visitado(i, estados_visitados):\n",
    "                        print(i)\n",
    "                        fila.put(i)\n",
    "\n",
    "        return solucao_encontrada, estados_visitados, cont_estados\n"
   ]
  },
  {
   "cell_type": "markdown",
   "metadata": {
    "colab_type": "text",
    "id": "GttU31ulCrCU"
   },
   "source": [
    "### Main"
   ]
  },
  {
   "cell_type": "code",
   "execution_count": null,
   "metadata": {
    "colab": {
     "base_uri": "https://localhost:8080/",
     "height": 1000
    },
    "colab_type": "code",
    "id": "9Zz0S60dCqA7",
    "outputId": "ef236b14-5576-4185-feb6-a04f151f2e47"
   },
   "outputs": [],
   "source": [
    "problema = SlidingPuzzle(3)\n",
    "\n",
    "start = np.matrix([[2, 8, 3],[1, 6, 4],[7, 0, 5]])\n",
    "print(start, \"\\n************\\n\")\n",
    "\n",
    "target = np.matrix([[1, 2, 3],[8, 0, 4],[7, 6, 5]])\n",
    "print(target, \"\\n************\\n\")\n",
    "\n",
    "bfs = BreadthFirstSearch(problema)\n",
    "dfs = DepthFirstSearch(problema)\n",
    "solution,visited,steps = bfs.busca(start,target)\n",
    "solution2,visited2,steps2 = dfs.busca(start,target)\n",
    "if solution:\n",
    "    print('Solution BFS found in %d steps!' % steps)\n",
    "else:\n",
    "    print('Solution not found!')\n",
    "\n",
    "if solution2:\n",
    "    print('Solution DFS found in %d steps!' % steps2)\n",
    "else:\n",
    "    print('Solution not found!')\n",
    "\n"
   ]
  }
 ],
 "metadata": {
  "colab": {
   "collapsed_sections": [],
   "name": "Busca Cega.ipynb",
   "provenance": []
  },
  "interpreter": {
   "hash": "7cc3ab92e64919ee351287d754acdc76410e4f5dd3e80eb4271505c838109223"
  },
  "kernelspec": {
   "display_name": "Python 3.9.1 64-bit",
   "language": "python",
   "name": "python3"
  },
  "language_info": {
   "codemirror_mode": {
    "name": "ipython",
    "version": 3
   },
   "file_extension": ".py",
   "mimetype": "text/x-python",
   "name": "python",
   "nbconvert_exporter": "python",
   "pygments_lexer": "ipython3",
   "version": "3.9.1"
  }
 },
 "nbformat": 4,
 "nbformat_minor": 1
}
