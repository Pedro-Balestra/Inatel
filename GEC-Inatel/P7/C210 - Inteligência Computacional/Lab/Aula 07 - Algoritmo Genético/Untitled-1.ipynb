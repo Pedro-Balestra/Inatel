{
 "cells": [
  {
   "cell_type": "code",
   "execution_count": 1,
   "metadata": {},
   "outputs": [],
   "source": [
    "import numpy as np\n",
    "import cv2\n",
    "import urllib.request"
   ]
  },
  {
   "cell_type": "code",
   "execution_count": 2,
   "metadata": {},
   "outputs": [],
   "source": [
    "\n",
    "# Abrir a imagem do link ou img = cv2.imread(diretorio_da_imagem//nome_do_arquivo)\n",
    "resp = urllib.request.urlopen(\"https://i.stack.imgur.com/pgW91.png%22\")\n",
    "img = np.asarray(bytearray(resp.read()), dtype=\"uint8\")\n",
    "img = cv2.imdecode(img, cv2.IMREAD_COLOR)\n",
    "\n",
    "kernel = np.ones((3,3),np.uint8)"
   ]
  },
  {
   "cell_type": "code",
   "execution_count": 3,
   "metadata": {},
   "outputs": [],
   "source": [
    "# Utilização do morphologyEx e blur\n",
    "closing = cv2.morphologyEx(img,cv2.MORPH_CLOSE,kernel, iterations = 2)\n",
    "blur = cv2.blur(closing,(15,15))"
   ]
  },
  {
   "cell_type": "code",
   "execution_count": 7,
   "metadata": {},
   "outputs": [
    {
     "ename": "AttributeError",
     "evalue": "module 'cv2' has no attribute 'COLORBGR2GRAY'",
     "output_type": "error",
     "traceback": [
      "\u001b[1;31m---------------------------------------------------------------------------\u001b[0m",
      "\u001b[1;31mAttributeError\u001b[0m                            Traceback (most recent call last)",
      "\u001b[1;32mc:\\Users\\Pedro\\Desktop\\inatel\\P7\\C210 - Inteligência Computacional P7\\Lab\\Aula 07 - Algoritmo Genético\\Untitled-1.ipynb Cell 4'\u001b[0m in \u001b[0;36m<cell line: 2>\u001b[1;34m()\u001b[0m\n\u001b[0;32m      <a href='vscode-notebook-cell:/c%3A/Users/Pedro/Desktop/inatel/P7/C210%20-%20Intelig%C3%AAncia%20Computacional%20P7/Lab/Aula%2007%20-%20Algoritmo%20Gen%C3%A9tico/Untitled-1.ipynb#ch0000003?line=0'>1</a>\u001b[0m \u001b[39m# Binarização\u001b[39;00m\n\u001b[1;32m----> <a href='vscode-notebook-cell:/c%3A/Users/Pedro/Desktop/inatel/P7/C210%20-%20Intelig%C3%AAncia%20Computacional%20P7/Lab/Aula%2007%20-%20Algoritmo%20Gen%C3%A9tico/Untitled-1.ipynb#ch0000003?line=1'>2</a>\u001b[0m gray \u001b[39m=\u001b[39m cv2\u001b[39m.\u001b[39mcvtColor(blur,cv2\u001b[39m.\u001b[39mCOLORBGR2GRAY)\n\u001b[0;32m      <a href='vscode-notebook-cell:/c%3A/Users/Pedro/Desktop/inatel/P7/C210%20-%20Intelig%C3%AAncia%20Computacional%20P7/Lab/Aula%2007%20-%20Algoritmo%20Gen%C3%A9tico/Untitled-1.ipynb#ch0000003?line=2'>3</a>\u001b[0m _, mask \u001b[39m=\u001b[39m cv2\u001b[39m.\u001b[39mthreshold(gray,\u001b[39m0\u001b[39m,\u001b[39m255\u001b[39m,cv2\u001b[39m.\u001b[39mTHRESH_BINARY_INV\u001b[39m+\u001b[39mcv2\u001b[39m.\u001b[39mTHRESH_OTSU)\n\u001b[0;32m      <a href='vscode-notebook-cell:/c%3A/Users/Pedro/Desktop/inatel/P7/C210%20-%20Intelig%C3%AAncia%20Computacional%20P7/Lab/Aula%2007%20-%20Algoritmo%20Gen%C3%A9tico/Untitled-1.ipynb#ch0000003?line=3'>4</a>\u001b[0m cv2\u001b[39m.\u001b[39mimshow(\u001b[39m'\u001b[39m\u001b[39mBinarização\u001b[39m\u001b[39m'\u001b[39m,mask)\n",
      "\u001b[1;31mAttributeError\u001b[0m: module 'cv2' has no attribute 'COLORBGR2GRAY'"
     ]
    }
   ],
   "source": [
    "# Binarização\n",
    "gray = cv2.cvtColor(blur,cv2.COLORBGR2GRAY)\n",
    "_, mask = cv2.threshold(gray,0,255,cv2.THRESH_BINARY_INV+cv2.THRESH_OTSU)\n",
    "cv2.imshow('Binarização',mask)\n",
    "cv2.waitKey(0)"
   ]
  },
  {
   "cell_type": "code",
   "execution_count": null,
   "metadata": {},
   "outputs": [],
   "source": [
    "#Preenche os quatro cantos da imagem binária\n",
    "w, h = mask.shape[::-1]\n",
    "cv2.floodFill(mask, None, (0, 0), 0)\n",
    "cv2.floodFill(mask, None, (w-1, 0), 0)\n",
    "cv2.floodFill(mask, None, (0, h-1), 0)\n",
    "cv2.floodFill(mask, None, (w-1, h-1), 0)\n",
    "cv2.imshow('mask',mask)\n",
    "cv2.waitKey(0)\n"
   ]
  },
  {
   "cell_type": "code",
   "execution_count": null,
   "metadata": {},
   "outputs": [],
   "source": [
    "#Lógica AND para obter da imagem original a encontrada pela criação do mask\n",
    "img = cv2.bitwise_and(img, img, mask=mask )\n",
    "cv2.imshow('AND',img)\n",
    "cv2.waitKey(0)"
   ]
  },
  {
   "cell_type": "code",
   "execution_count": null,
   "metadata": {},
   "outputs": [],
   "source": [
    "#Canny Edges\n",
    "edges = cv2.Canny(img, 100,200)\n",
    "dilate = cv2.dilate(edges,kernel,iterations=1)\n",
    "dilate = cv2.bitwise_not(dilate)\n",
    "cv2.imshow('Canny',dilate)\n",
    "cv2.waitKey(0)"
   ]
  },
  {
   "cell_type": "code",
   "execution_count": null,
   "metadata": {},
   "outputs": [],
   "source": [
    "#Lógica OR para retirar da imagem original os pêlos encontrados\n",
    "img = cv2.bitwise_or(img, img, mask=dilate )\n",
    "cv2.imshow('Edges',img)\n",
    "cv2.waitKey(0)"
   ]
  },
  {
   "cell_type": "code",
   "execution_count": null,
   "metadata": {},
   "outputs": [],
   "source": [
    "#Interpolação da imagem para preencher os vazios\n",
    "dilate = cv2.bitwise_not(dilate)\n",
    "inpaint = cv2.inpaint(img, dilate, 3,cv2.INPAINT_TELEA)\n",
    "cv2.imshow('InPaint', inpaint)\n",
    "cv2.waitKey(0)\n",
    "\n",
    "cv2.destroyAllWindows()"
   ]
  }
 ],
 "metadata": {
  "interpreter": {
   "hash": "3763ad9f89648d847e6f5401e1219410b4a0054c5a073f5da0c68452446768ec"
  },
  "kernelspec": {
   "display_name": "Python 3.10.0 64-bit",
   "language": "python",
   "name": "python3"
  },
  "language_info": {
   "codemirror_mode": {
    "name": "ipython",
    "version": 3
   },
   "file_extension": ".py",
   "mimetype": "text/x-python",
   "name": "python",
   "nbconvert_exporter": "python",
   "pygments_lexer": "ipython3",
   "version": "3.10.0"
  },
  "orig_nbformat": 4
 },
 "nbformat": 4,
 "nbformat_minor": 2
}
